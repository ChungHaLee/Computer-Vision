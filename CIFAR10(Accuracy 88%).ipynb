{
 "cells": [
  {
   "cell_type": "markdown",
   "metadata": {},
   "source": [
    "### 1) Library 불러오기"
   ]
  },
  {
   "cell_type": "code",
   "execution_count": 181,
   "metadata": {},
   "outputs": [
    {
     "name": "stdout",
     "output_type": "stream",
     "text": [
      "device: gpu\n"
     ]
    }
   ],
   "source": [
    "import torch\n",
    "import torch.nn as nn\n",
    "import torch.optim as optim\n",
    "import torch.nn.init as init\n",
    "import torchvision\n",
    "import torchvision.datasets as dataset # for loading dataset (mnist)\n",
    "import torchvision.transforms as transforms # for processing datasets\n",
    "from torch.utils.data import DataLoader # for making dataset easier to use \n",
    "\n",
    "from matplotlib import pyplot as plt\n",
    "import numpy as np\n",
    "\n",
    "device = torch.device(\"cuda:0\" if torch.cuda.is_available() else \"cpu\")\n",
    "print(\"device: gpu\") if torch.cuda.is_available() else print(\"device: cpu\")"
   ]
  },
  {
   "cell_type": "markdown",
   "metadata": {},
   "source": [
    "### 2) Hyper Parameter 세팅하기"
   ]
  },
  {
   "cell_type": "code",
   "execution_count": 182,
   "metadata": {},
   "outputs": [],
   "source": [
    "# hypter parameter setting\n",
    "learning_rate = 0.02\n",
    "training_epochs = 30\n",
    "display_step = 10\n",
    "batch_size = 256\n",
    "weight_decay = 1e-5\n",
    "# drop_prob = 0.3\n",
    "momentum = 0.9 # momentum: 이전의 Gradient 정보 반영\n",
    "\n",
    "activation = nn.ReLU()\n",
    "bn = torch.nn.BatchNorm2d\n",
    "# dropout = torch.nn.Dropout(p = drop_prob)\n",
    "max_pool = nn.MaxPool2d(2,2) # kerel size, stride size, padding size "
   ]
  },
  {
   "cell_type": "markdown",
   "metadata": {},
   "source": [
    "### 3) Data 불러와서 전처리하기"
   ]
  },
  {
   "cell_type": "code",
   "execution_count": 183,
   "metadata": {},
   "outputs": [
    {
     "name": "stdout",
     "output_type": "stream",
     "text": [
      "Files already downloaded and verified\n",
      "Files already downloaded and verified\n"
     ]
    },
    {
     "name": "stderr",
     "output_type": "stream",
     "text": [
      "Clipping input data to the valid range for imshow with RGB data ([0..1] for floats or [0..255] for integers).\n"
     ]
    },
    {
     "name": "stdout",
     "output_type": "stream",
     "text": [
      "len(train_data):  50000\n",
      "len(test_data):  10000\n",
      "data tensor([[[-2.4291, -2.4183, -2.2214],\n",
      "         [-2.4291, -2.4183, -2.2214],\n",
      "         [-2.4291, -2.4183, -2.2214],\n",
      "         ...,\n",
      "         [-2.4291, -2.4183, -2.2214],\n",
      "         [-2.4291, -2.4183, -2.2214],\n",
      "         [-2.4291, -2.4183, -2.2214]],\n",
      "\n",
      "        [[-2.4291, -2.4183, -2.2214],\n",
      "         [-2.4291, -2.4183, -2.2214],\n",
      "         [-2.4291, -2.4183, -2.2214],\n",
      "         ...,\n",
      "         [-2.4291, -2.4183, -2.2214],\n",
      "         [-2.4291, -2.4183, -2.2214],\n",
      "         [-2.4291, -2.4183, -2.2214]],\n",
      "\n",
      "        [[-1.4598, -1.4742, -1.3825],\n",
      "         [-1.1109, -1.3562, -1.4020],\n",
      "         [-0.5293, -0.9826, -1.2069],\n",
      "         ...,\n",
      "         [ 0.4399,  0.0204, -0.2118],\n",
      "         [-2.4291, -2.4183, -2.2214],\n",
      "         [-2.4291, -2.4183, -2.2214]],\n",
      "\n",
      "        ...,\n",
      "\n",
      "        [[ 0.8276, -0.0189, -1.8507],\n",
      "         [ 0.4981, -0.2352, -1.5385],\n",
      "         [ 0.1104, -0.6876, -1.5580],\n",
      "         ...,\n",
      "         [-1.0527, -1.4742, -1.7141],\n",
      "         [-2.4291, -2.4183, -2.2214],\n",
      "         [-2.4291, -2.4183, -2.2214]],\n",
      "\n",
      "        [[ 1.1765,  0.4924, -1.7531],\n",
      "         [ 0.9051,  0.3154, -1.6751],\n",
      "         [ 0.5950, -0.0582, -1.7141],\n",
      "         ...,\n",
      "         [-1.7894, -2.0446, -2.0458],\n",
      "         [-2.4291, -2.4183, -2.2214],\n",
      "         [-2.4291, -2.4183, -2.2214]],\n",
      "\n",
      "        [[ 1.4091,  0.7481, -1.7141],\n",
      "         [ 1.2735,  0.6694, -1.6946],\n",
      "         [ 1.1184,  0.4531, -1.5580],\n",
      "         ...,\n",
      "         [-1.4017, -1.7496, -1.8312],\n",
      "         [-2.4291, -2.4183, -2.2214],\n",
      "         [-2.4291, -2.4183, -2.2214]]])\n",
      "data shape:  torch.Size([32, 32, 3])\n",
      "label:  6\n"
     ]
    },
    {
     "data": {
      "image/png": "[encoded data removed]",
      "text/plain": [
       "<Figure size 432x288 with 1 Axes>"
      ]
     },
     "metadata": {
      "needs_background": "light"
     },
     "output_type": "display_data"
    }
   ],
   "source": [
    "transform_train = transforms.Compose([\n",
    "    transforms.RandomCrop(32, padding=4),\n",
    "    transforms.RandomHorizontalFlip(),\n",
    "    transforms.ToTensor(),\n",
    "    transforms.Normalize((0.4914, 0.4822, 0.4465), (0.2023, 0.1994, 0.2010)),\n",
    "])\n",
    "\n",
    "transform_test = transforms.Compose([\n",
    "    transforms.ToTensor(),\n",
    "    transforms.Normalize((0.4914, 0.4822, 0.4465), (0.2023, 0.1994, 0.2010)),\n",
    "])\n",
    "\n",
    "train_data = torchvision.datasets.CIFAR10(\n",
    "    root='./data', train=True, download=True, transform=transform_train)\n",
    "train_loader = torch.utils.data.DataLoader(\n",
    "    train_data, batch_size=batch_size, shuffle=True, num_workers=2, drop_last = True)\n",
    "\n",
    "test_data = torchvision.datasets.CIFAR10(\n",
    "    root='./data', train=False, download=True, transform=transform_test)\n",
    "test_loader = torch.utils.data.DataLoader(\n",
    "    test_data, batch_size=batch_size, shuffle=False, num_workers=2, drop_last = True)\n",
    "\n",
    "\n",
    "# check the data\n",
    "print('len(train_data): ', len(train_data))\n",
    "print('len(test_data): ', len(test_data))\n",
    "\n",
    "x_train, y_train = train_data[0]\n",
    "x_train = np.transpose(x_train, (1, 2, 0))\n",
    "\n",
    "print('data', x_train)\n",
    "print('data shape: ', x_train.shape)\n",
    "print('label: ', y_train)\n",
    "\n",
    "plt.figure()\n",
    "plt.imshow(x_train)\n",
    "plt.show()"
   ]
  },
  {
   "cell_type": "code",
   "execution_count": 184,
   "metadata": {},
   "outputs": [
    {
     "name": "stderr",
     "output_type": "stream",
     "text": [
      "Clipping input data to the valid range for imshow with RGB data ([0..1] for floats or [0..255] for integers).\n"
     ]
    },
    {
     "name": "stdout",
     "output_type": "stream",
     "text": [
      "data shape: torch.Size([256, 3, 32, 32])\n",
      "label: tensor([9, 4, 6, 0, 8, 0, 4, 9, 1, 1, 8, 9, 3, 4, 3, 4, 7, 3, 8, 3, 2, 9, 0, 2,\n",
      "        2, 2, 3, 4, 7, 2, 0, 5, 4, 3, 5, 5, 2, 9, 5, 8, 2, 1, 6, 2, 5, 7, 2, 6,\n",
      "        6, 9, 2, 2, 2, 1, 5, 8, 5, 8, 7, 4, 2, 8, 9, 2, 7, 0, 7, 6, 5, 4, 1, 6,\n",
      "        7, 9, 5, 2, 7, 7, 0, 4, 1, 9, 1, 2, 3, 4, 6, 2, 2, 5, 3, 5, 0, 8, 9, 0,\n",
      "        1, 3, 7, 4, 6, 7, 6, 7, 8, 1, 3, 3, 6, 1, 3, 3, 4, 1, 5, 0, 3, 5, 4, 0,\n",
      "        5, 8, 5, 8, 2, 9, 9, 2, 2, 1, 5, 6, 6, 1, 7, 2, 8, 6, 5, 2, 3, 4, 2, 7,\n",
      "        1, 8, 7, 3, 9, 4, 8, 2, 0, 2, 6, 4, 7, 6, 6, 5, 6, 6, 6, 8, 8, 8, 7, 0,\n",
      "        2, 6, 6, 0, 7, 0, 4, 3, 8, 3, 6, 6, 8, 9, 2, 9, 7, 9, 8, 0, 2, 3, 4, 2,\n",
      "        5, 8, 2, 5, 4, 5, 2, 4, 5, 1, 6, 7, 1, 6, 8, 0, 0, 2, 5, 3, 2, 5, 8, 1,\n",
      "        5, 7, 1, 8, 1, 2, 3, 6, 7, 7, 5, 1, 9, 6, 8, 1, 8, 7, 1, 5, 9, 1, 3, 3,\n",
      "        6, 5, 4, 4, 0, 1, 3, 1, 2, 5, 2, 9, 3, 4, 6, 2])\n"
     ]
    },
    {
     "data": {
      "image/png": "[encoded data removed]",
      "text/plain": [
       "<Figure size 432x288 with 1 Axes>"
      ]
     },
     "metadata": {
      "needs_background": "light"
     },
     "output_type": "display_data"
    }
   ],
   "source": [
    "# check the data \n",
    "examples = enumerate(train_loader)\n",
    "batch_idx, (example_data, example_target) = next(examples)\n",
    "\n",
    "print('data shape:', example_data.shape)\n",
    "print('label:', example_target)\n",
    "\n",
    "check_image = example_data[0]\n",
    "check_image = np.transpose(check_image, (1, 2, 0))\n",
    "\n",
    "plt.figure()\n",
    "plt.imshow(check_image)\n",
    "plt.show()"
   ]
  },
  {
   "cell_type": "markdown",
   "metadata": {},
   "source": [
    "### 4) Model 만들기, 최적화 함수와 오차 함수 적용하기"
   ]
  },
  {
   "cell_type": "code",
   "execution_count": 185,
   "metadata": {},
   "outputs": [],
   "source": [
    "class CNN(nn.Module):\n",
    "    def __init__(self):\n",
    "        super(CNN, self).__init__() # for initializing nn.Module (parent class)\n",
    "        self.feature_extraction = nn.Sequential(\n",
    "            nn.Conv2d(3, 64, 3, padding = 1),\n",
    "            activation,\n",
    "            nn.Conv2d(64, 64, 3),\n",
    "            bn(64),\n",
    "            # 30\n",
    "\n",
    "            \n",
    "            nn.Conv2d(64, 128, 3, padding = 1),\n",
    "            activation,\n",
    "            nn.Conv2d(128, 128, 3),\n",
    "            activation,\n",
    "            max_pool,\n",
    "            bn(128),\n",
    "            # 28\n",
    "            # 14\n",
    "            \n",
    "\n",
    "            nn.Conv2d(128, 256, 3, padding = 1),\n",
    "            activation,\n",
    "            nn.Conv2d(256, 256, 3),\n",
    "            activation,\n",
    "            nn.Conv2d(256, 256, 3),\n",
    "            activation,\n",
    "            max_pool,\n",
    "            bn(256),\n",
    "            # 14\n",
    "            \n",
    "            \n",
    "            nn.Conv2d(256, 512, 3, padding = 1),\n",
    "            activation,\n",
    "            nn.Conv2d(512, 512, 3),\n",
    "            activation,\n",
    "            nn.Conv2d(512, 512, 3),\n",
    "            activation,\n",
    "            bn(512),\n",
    "            \n",
    "            \n",
    "        )\n",
    "        self.classifier = nn.Sequential(\n",
    "            nn.Linear(512 * 1 * 1, 10),\n",
    "            activation,\n",
    "            nn.Linear(10, 10)\n",
    "        )\n",
    "\n",
    "    def forward(self, x):\n",
    "        extracted_feature = self.feature_extraction(x) \n",
    "        flatten = extracted_feature.view(batch_size, -1) \n",
    "        result = self.classifier(flatten)\n",
    "        return result\n",
    "\n",
    "\n",
    "model = CNN().to(device)\n",
    "model.train()\n",
    "loss_function = nn.CrossEntropyLoss()\n",
    "optimizer = optim.SGD(model.parameters(), lr = learning_rate, momentum = 0.9, weight_decay = 1e-5)"
   ]
  },
  {
   "cell_type": "markdown",
   "metadata": {},
   "source": [
    "### 5) Train & Test"
   ]
  },
  {
   "cell_type": "code",
   "execution_count": null,
   "metadata": {},
   "outputs": [
    {
     "name": "stdout",
     "output_type": "stream",
     "text": [
      "0 epoch loss: 1.1682085990905762\n",
      "10 epoch loss: 0.2866082489490509\n",
      "20 epoch loss: 0.16356109082698822\n"
     ]
    }
   ],
   "source": [
    "loss_array = []\n",
    "\n",
    "# train the model\n",
    "for i in range(training_epochs):\n",
    "    for index, [data, label] in enumerate(train_loader):\n",
    "        data = data.to(device)\n",
    "        label = label.to(device)\n",
    "                \n",
    "        optimizer.zero_grad()\n",
    "        output = model.forward(data)\n",
    "        loss = loss_function(output, label)\n",
    "        loss.backward()\n",
    "        optimizer.step()\n",
    "        \n",
    "    if i % display_step == 0:\n",
    "        print('{} epoch loss: {}'.format(i,loss))\n",
    "        loss_array.append(loss.cpu().detach().numpy())"
   ]
  },
  {
   "cell_type": "code",
   "execution_count": null,
   "metadata": {},
   "outputs": [],
   "source": [
    "plt.figure()\n",
    "plt.plot(loss_array)\n",
    "plt.show()"
   ]
  },
  {
   "cell_type": "code",
   "execution_count": null,
   "metadata": {},
   "outputs": [],
   "source": [
    "#test the model\n",
    "model.eval()\n",
    "correct = 0\n",
    "total = 0\n",
    "\n",
    "prediction_list = []\n",
    "label_list = []\n",
    "\n",
    "with torch.no_grad():\n",
    "    for index, [data, label] in enumerate(test_loader):\n",
    "        data = data.to(device)\n",
    "        label = label.to(device)\n",
    "        \n",
    "        output = model.forward(data)\n",
    "        _, prediction_index = torch.max(output, 1)\n",
    "        \n",
    "        prediction_list.append(prediction_index)\n",
    "        label_list.append(label)\n",
    "        \n",
    "        total += label.size(0)\n",
    "        correct += (prediction_index == label).sum().float()\n",
    "\n",
    "    print(\"Accuracy of the model: {}\".format(correct/total))"
   ]
  },
  {
   "cell_type": "code",
   "execution_count": null,
   "metadata": {},
   "outputs": [],
   "source": []
  },
  {
   "cell_type": "code",
   "execution_count": null,
   "metadata": {},
   "outputs": [],
   "source": []
  }
 ],
 "metadata": {
  "kernelspec": {
   "display_name": "Pytorch",
   "language": "python",
   "name": "pytorch"
  }
 },
 "nbformat": 4,
 "nbformat_minor": 4
}
