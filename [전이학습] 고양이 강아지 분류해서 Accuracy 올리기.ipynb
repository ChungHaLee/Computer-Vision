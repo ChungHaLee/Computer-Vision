{
 "cells": [
  {
   "cell_type": "markdown",
   "metadata": {},
   "source": [
    "# Transfer Learning (= 전이학습)"
   ]
  },
  {
   "cell_type": "markdown",
   "metadata": {},
   "source": [
    "-실습참고 사이트</br>\n",
    "\n",
    "https://github.com/tensorflow/docs/blob/master/site/en/tutorials/images/transfer_learning.ipynb"
   ]
  },
  {
   "cell_type": "markdown",
   "metadata": {},
   "source": [
    "* 강아지와 고양이 사진 분류하기"
   ]
  },
  {
   "cell_type": "markdown",
   "metadata": {},
   "source": [
    "<img src=\"image/dogcat.png\" with=\"500\">"
   ]
  },
  {
   "cell_type": "code",
   "execution_count": 2,
   "metadata": {},
   "outputs": [],
   "source": [
    "from tensorflow.compat.v1 import ConfigProto, Session\n",
    "from tensorflow.compat.v1.keras.backend import set_session\n",
    "\n",
    "config = ConfigProto()\n",
    "config.gpu_options.allow_growth =True\n",
    "session = Session(config=config)\n",
    "set_session(session)"
   ]
  },
  {
   "cell_type": "code",
   "execution_count": 3,
   "metadata": {
    "ExecuteTime": {
     "end_time": "2020-08-03T02:31:45.666314Z",
     "start_time": "2020-08-03T02:31:42.581238Z"
    },
    "scrolled": true
   },
   "outputs": [
    {
     "name": "stdout",
     "output_type": "stream",
     "text": [
      "TensorFlow version is  2.2.0\n"
     ]
    }
   ],
   "source": [
    "# __future__ :파이썬 2 버전과 파이썬 3 버전의 호환을 위하여 사용되는 모듈\n",
    "#from __future__ import absolute_import, division, print_function \n",
    "\n",
    "# OS: 운영체제와 관련된 명령을 수행할 수 있다.\n",
    "import os\n",
    "\n",
    "import tensorflow as tf\n",
    "from tensorflow import keras\n",
    "print(\"TensorFlow version is \", tf.__version__)\n",
    "\n",
    "import numpy as np\n",
    "\n",
    "# pyplot: 그래프를 그리기위해 지원되는 모듈 \n",
    "import matplotlib.pyplot as plt\n",
    "\n",
    "# image: matplotlib에서 이미지를 활용하고자 할 때 사용하는 모듈\n",
    "import matplotlib.image as mpimg\n"
   ]
  },
  {
   "cell_type": "markdown",
   "metadata": {},
   "source": [
    "## Data preprocessing"
   ]
  },
  {
   "cell_type": "markdown",
   "metadata": {},
   "source": [
    "* 대부분 자신의 컴퓨터 C:/User/계정/.keras/datasets 경로에 파일이 다운됩니다.\n",
    "\n",
    "* 모델에 데이터를 넣어줄 때 경로를 사용합니다. 따라서 아래에서 각 class별 train,test 셋의 경로를 변수로 저장합니다. \n",
    "\n",
    "<img src=\"image/path.jpg\">"
   ]
  },
  {
   "cell_type": "code",
   "execution_count": 4,
   "metadata": {
    "ExecuteTime": {
     "end_time": "2020-07-30T07:32:32.355005Z",
     "start_time": "2020-07-30T07:32:29.901494Z"
    }
   },
   "outputs": [
    {
     "name": "stdout",
     "output_type": "stream",
     "text": [
      "/home/piai/.keras/datasets/cats_and_dogs_filtered.zip\n"
     ]
    }
   ],
   "source": [
    "# 데이터 가져오기, extract = True 일 시 압축 파일을 풀라는 명령 \n",
    "zip_file = tf.keras.utils.get_file(origin=\"https://storage.googleapis.com/mledu-datasets/cats_and_dogs_filtered.zip\", \n",
    "                                   fname=\"cats_and_dogs_filtered.zip\", extract=True)\n",
    "\n",
    "#zip_file=\"./경로/cats_and_dogs_filtered.zip\"                                \n",
    "print(zip_file)\n",
    "# 확장자를 기준으로 파일 이름 나누기 \n",
    "base_dir, _ = os.path.splitext(zip_file)"
   ]
  },
  {
   "cell_type": "markdown",
   "metadata": {},
   "source": [
    "* **base_dir**는 **train/cats,train/dogs, test/cats,test/dogs** 에 접근하기위한 기본경로입니다. \n",
    "\n",
    "<img src=\"image/path2.png\" width=\"500\">"
   ]
  },
  {
   "cell_type": "code",
   "execution_count": 5,
   "metadata": {
    "ExecuteTime": {
     "end_time": "2020-07-30T07:32:32.401006Z",
     "start_time": "2020-07-30T07:32:32.388005Z"
    }
   },
   "outputs": [
    {
     "data": {
      "text/plain": [
       "'/home/piai/.keras/datasets/cats_and_dogs_filtered'"
      ]
     },
     "execution_count": 5,
     "metadata": {},
     "output_type": "execute_result"
    }
   ],
   "source": [
    "base_dir"
   ]
  },
  {
   "cell_type": "markdown",
   "metadata": {},
   "source": [
    "### Prepare training and validation cats and dogs datasets"
   ]
  },
  {
   "cell_type": "code",
   "execution_count": 6,
   "metadata": {
    "ExecuteTime": {
     "end_time": "2020-07-30T07:32:32.449006Z",
     "start_time": "2020-07-30T07:32:32.434004Z"
    }
   },
   "outputs": [
    {
     "name": "stdout",
     "output_type": "stream",
     "text": [
      "**train_cats_dir** /home/piai/.keras/datasets/cats_and_dogs_filtered/train/cats\n",
      "**train_dogs_dir** /home/piai/.keras/datasets/cats_and_dogs_filtered/train/dogs\n",
      "**validation_cats_dir** /home/piai/.keras/datasets/cats_and_dogs_filtered/validation/cats\n",
      "**validation_dogs_dir** /home/piai/.keras/datasets/cats_and_dogs_filtered/validation/dogs\n",
      "Total training cat images: 1000\n",
      "Total training dog images: 1000\n",
      "Total validation cat images: 500\n",
      "Total validation dog images: 500\n"
     ]
    }
   ],
   "source": [
    "# train폴더와 validation폴더 경로명 생성 및 저장\n",
    "train_dir = os.path.join(base_dir, 'train')\n",
    "validation_dir = os.path.join(base_dir, 'validation')\n",
    "\n",
    "# train cats 이미지가 들어있는 경로명 생성 및 저장\n",
    "train_cats_dir = os.path.join(train_dir, 'cats')\n",
    "print ('**train_cats_dir**', train_cats_dir )\n",
    "\n",
    "\n",
    "# train dog 이미지가 들어있는 경로명 생성 및 저장\n",
    "train_dogs_dir = os.path.join(train_dir, 'dogs')\n",
    "print ('**train_dogs_dir**', train_dogs_dir )\n",
    "\n",
    "\n",
    "# validaton cats 이미지가 들어있는 경로명 생성 및 저장\n",
    "validation_cats_dir = os.path.join(validation_dir, 'cats')\n",
    "print ('**validation_cats_dir**', validation_cats_dir )\n",
    "\n",
    "\n",
    "# validaton dog 이미지가 들어있는 경로명 생성 및 저장\n",
    "validation_dogs_dir = os.path.join(validation_dir, 'dogs')\n",
    "print ('**validation_dogs_dir**', validation_dogs_dir )\n",
    "\n",
    "\n",
    "print ('Total training cat images:', len(os.listdir(train_cats_dir)))\n",
    "print ('Total training dog images:', len(os.listdir(train_dogs_dir)))\n",
    "print ('Total validation cat images:', len(os.listdir(validation_cats_dir)))\n",
    "print ('Total validation dog images:', len(os.listdir(validation_dogs_dir)))"
   ]
  },
  {
   "cell_type": "markdown",
   "metadata": {},
   "source": [
    "### Create Image Data Generator with Image Augmentation"
   ]
  },
  {
   "cell_type": "markdown",
   "metadata": {},
   "source": [
    "- ImageDataGenerator() 참고: https://keraskorea.github.io/posts/2018-10-24-little_data_powerful_model/"
   ]
  },
  {
   "cell_type": "code",
   "execution_count": 7,
   "metadata": {
    "ExecuteTime": {
     "end_time": "2020-07-30T07:32:32.495004Z",
     "start_time": "2020-07-30T07:32:32.482004Z"
    }
   },
   "outputs": [],
   "source": [
    "image_size = 224 # All images will be resized to 224 x 224\n",
    "batch_size = 32\n",
    "\n",
    "# Rescale\n",
    "train_datagen = keras.preprocessing.image.ImageDataGenerator(zoom_range=0.2,\\\n",
    "                                                             horizontal_flip=True,\\\n",
    "                                                             rescale=1./255)\n",
    "\n",
    "# 검증 데이터셋은 원본을 사용해야하기 때문에 1/255 스케일링만 시켜줍니다.\n",
    "validation_datagen = keras.preprocessing.image.ImageDataGenerator(rescale=1./255)"
   ]
  },
  {
   "cell_type": "markdown",
   "metadata": {},
   "source": [
    "<img src=\"image/gen.jpg\" width=\"600\">"
   ]
  },
  {
   "cell_type": "code",
   "execution_count": 8,
   "metadata": {
    "ExecuteTime": {
     "end_time": "2020-07-30T07:32:32.776003Z",
     "start_time": "2020-07-30T07:32:32.527007Z"
    }
   },
   "outputs": [
    {
     "name": "stdout",
     "output_type": "stream",
     "text": [
      "Found 2000 images belonging to 2 classes.\n",
      "Found 1000 images belonging to 2 classes.\n",
      "{'cats': 0, 'dogs': 1}\n",
      "{'cats': 0, 'dogs': 1}\n"
     ]
    }
   ],
   "source": [
    "# 디렉토리에서 바로 레이블과 이미지 가져오기 \n",
    "train_generator = train_datagen.flow_from_directory(\n",
    "                train_dir,  # Source directory for the training images\n",
    "                target_size=(image_size, image_size),  \n",
    "                batch_size=batch_size,\n",
    "                # Since we use binary_crossentropy loss, we need binary labels\n",
    "                class_mode='binary')\n",
    "\n",
    "validation_generator = validation_datagen.flow_from_directory(\n",
    "                validation_dir, # Source directory for the validation images\n",
    "                target_size=(image_size, image_size),\n",
    "                batch_size=batch_size,\n",
    "                class_mode='binary')\n",
    "\n",
    "# 클래스 인덱스 정보 보기 \n",
    "print(train_generator.class_indices)\n",
    "print(validation_generator.class_indices)"
   ]
  },
  {
   "cell_type": "markdown",
   "metadata": {},
   "source": [
    "- class_mode : 분류 방식에 대해서 지정합니다. 다중 클래스일 경우 \"categorical\"로 지정해주세요\n",
    "  "
   ]
  },
  {
   "cell_type": "markdown",
   "metadata": {},
   "source": [
    "## Create the base model from the pre-trained convnets"
   ]
  },
  {
   "cell_type": "markdown",
   "metadata": {},
   "source": [
    "- tensorflow.keras.applications 모듈을 사용하여 pretrained된 모델을 사용할 수 있다.\n",
    "- Xception, VGG16, VGG19, ResNet, InseptionV3, InseptionResNetV2, MobileNet, DenseNet, NASNet 사용가능 "
   ]
  },
  {
   "cell_type": "markdown",
   "metadata": {},
   "source": [
    "- 참고사이트: https://keras.io/applications/"
   ]
  },
  {
   "cell_type": "code",
   "execution_count": 9,
   "metadata": {
    "ExecuteTime": {
     "end_time": "2020-07-30T07:32:34.939717Z",
     "start_time": "2020-07-30T07:32:32.808007Z"
    }
   },
   "outputs": [],
   "source": [
    "IMG_SHAPE = (image_size, image_size, 3)\n",
    "\n",
    "#Create the base model from the pre-trained model VGG16\n",
    "base_model = tf.keras.applications.VGG16(input_shape=IMG_SHAPE,\n",
    "                                               include_top=False, \n",
    "                                               weights='imagenet')"
   ]
  },
  {
   "cell_type": "markdown",
   "metadata": {},
   "source": [
    "## Freeze the convolutional base  "
   ]
  },
  {
   "cell_type": "markdown",
   "metadata": {},
   "source": [
    "<img src=\"image/VGG3.png\" width=\"500\">"
   ]
  },
  {
   "cell_type": "code",
   "execution_count": 10,
   "metadata": {
    "ExecuteTime": {
     "end_time": "2020-07-30T07:32:34.987714Z",
     "start_time": "2020-07-30T07:32:34.973719Z"
    }
   },
   "outputs": [],
   "source": [
    "#분류기를 제외하고 가져온 모델부분을  Freeze 시켜 학습시에도 가중치가 변하지 않도록 함\n",
    "base_model.trainable = False"
   ]
  },
  {
   "cell_type": "code",
   "execution_count": 11,
   "metadata": {
    "ExecuteTime": {
     "end_time": "2020-07-30T07:32:35.003717Z",
     "start_time": "2020-07-30T07:32:34.991716Z"
    }
   },
   "outputs": [
    {
     "name": "stdout",
     "output_type": "stream",
     "text": [
      "Model: \"vgg16\"\n",
      "_________________________________________________________________\n",
      "Layer (type)                 Output Shape              Param #   \n",
      "=================================================================\n",
      "input_1 (InputLayer)         [(None, 224, 224, 3)]     0         \n",
      "_________________________________________________________________\n",
      "block1_conv1 (Conv2D)        (None, 224, 224, 64)      1792      \n",
      "_________________________________________________________________\n",
      "block1_conv2 (Conv2D)        (None, 224, 224, 64)      36928     \n",
      "_________________________________________________________________\n",
      "block1_pool (MaxPooling2D)   (None, 112, 112, 64)      0         \n",
      "_________________________________________________________________\n",
      "block2_conv1 (Conv2D)        (None, 112, 112, 128)     73856     \n",
      "_________________________________________________________________\n",
      "block2_conv2 (Conv2D)        (None, 112, 112, 128)     147584    \n",
      "_________________________________________________________________\n",
      "block2_pool (MaxPooling2D)   (None, 56, 56, 128)       0         \n",
      "_________________________________________________________________\n",
      "block3_conv1 (Conv2D)        (None, 56, 56, 256)       295168    \n",
      "_________________________________________________________________\n",
      "block3_conv2 (Conv2D)        (None, 56, 56, 256)       590080    \n",
      "_________________________________________________________________\n",
      "block3_conv3 (Conv2D)        (None, 56, 56, 256)       590080    \n",
      "_________________________________________________________________\n",
      "block3_pool (MaxPooling2D)   (None, 28, 28, 256)       0         \n",
      "_________________________________________________________________\n",
      "block4_conv1 (Conv2D)        (None, 28, 28, 512)       1180160   \n",
      "_________________________________________________________________\n",
      "block4_conv2 (Conv2D)        (None, 28, 28, 512)       2359808   \n",
      "_________________________________________________________________\n",
      "block4_conv3 (Conv2D)        (None, 28, 28, 512)       2359808   \n",
      "_________________________________________________________________\n",
      "block4_pool (MaxPooling2D)   (None, 14, 14, 512)       0         \n",
      "_________________________________________________________________\n",
      "block5_conv1 (Conv2D)        (None, 14, 14, 512)       2359808   \n",
      "_________________________________________________________________\n",
      "block5_conv2 (Conv2D)        (None, 14, 14, 512)       2359808   \n",
      "_________________________________________________________________\n",
      "block5_conv3 (Conv2D)        (None, 14, 14, 512)       2359808   \n",
      "_________________________________________________________________\n",
      "block5_pool (MaxPooling2D)   (None, 7, 7, 512)         0         \n",
      "=================================================================\n",
      "Total params: 14,714,688\n",
      "Trainable params: 0\n",
      "Non-trainable params: 14,714,688\n",
      "_________________________________________________________________\n"
     ]
    }
   ],
   "source": [
    "# Let's take a look at the base model architecture\n",
    "base_model.summary()"
   ]
  },
  {
   "cell_type": "markdown",
   "metadata": {},
   "source": [
    "## Add a classification head"
   ]
  },
  {
   "cell_type": "code",
   "execution_count": 12,
   "metadata": {
    "ExecuteTime": {
     "end_time": "2020-07-30T07:32:35.161715Z",
     "start_time": "2020-07-30T07:32:35.069719Z"
    }
   },
   "outputs": [],
   "source": [
    "model = tf.keras.Sequential([\n",
    "  base_model,\n",
    "  keras.layers.GlobalAveragePooling2D(),\n",
    "  keras.layers.Dense(1, activation='sigmoid')\n",
    "])"
   ]
  },
  {
   "cell_type": "markdown",
   "metadata": {},
   "source": [
    "- 다중 분류의 경우 activation = \"softmax\""
   ]
  },
  {
   "cell_type": "markdown",
   "metadata": {},
   "source": [
    "<img src=\"image/gapooling.png\" width=\"500\">"
   ]
  },
  {
   "cell_type": "markdown",
   "metadata": {},
   "source": [
    "## Compile the model"
   ]
  },
  {
   "cell_type": "code",
   "execution_count": 13,
   "metadata": {
    "ExecuteTime": {
     "end_time": "2020-07-30T07:32:35.238718Z",
     "start_time": "2020-07-30T07:32:35.194719Z"
    }
   },
   "outputs": [],
   "source": [
    "model.compile(optimizer=tf.keras.optimizers.RMSprop(lr=0.0001), \n",
    "              loss='binary_crossentropy', \n",
    "              metrics=['accuracy'])"
   ]
  },
  {
   "cell_type": "markdown",
   "metadata": {},
   "source": [
    "- loss의 경우 다중 클래스 분류일 때 \"categorical_crossentropy\"를 설정해주면 된다."
   ]
  },
  {
   "cell_type": "code",
   "execution_count": 14,
   "metadata": {
    "ExecuteTime": {
     "end_time": "2020-07-30T07:32:35.285718Z",
     "start_time": "2020-07-30T07:32:35.271720Z"
    }
   },
   "outputs": [
    {
     "name": "stdout",
     "output_type": "stream",
     "text": [
      "Model: \"sequential\"\n",
      "_________________________________________________________________\n",
      "Layer (type)                 Output Shape              Param #   \n",
      "=================================================================\n",
      "vgg16 (Model)                (None, 7, 7, 512)         14714688  \n",
      "_________________________________________________________________\n",
      "global_average_pooling2d (Gl (None, 512)               0         \n",
      "_________________________________________________________________\n",
      "dense (Dense)                (None, 1)                 513       \n",
      "=================================================================\n",
      "Total params: 14,715,201\n",
      "Trainable params: 513\n",
      "Non-trainable params: 14,714,688\n",
      "_________________________________________________________________\n"
     ]
    }
   ],
   "source": [
    "model.summary()"
   ]
  },
  {
   "cell_type": "markdown",
   "metadata": {},
   "source": [
    "## Train"
   ]
  },
  {
   "cell_type": "markdown",
   "metadata": {},
   "source": [
    "- \"could not import PIL.Image\" 오류발생시\n",
    "- 참고: https://stackoverflow.com/questions/48225729/importerrorcould-not-import-pil-image-working-with-keras-ternsorflow/50775336\n",
    "\n",
    "- pip install Pillow 를 통해 해당 가상환경에 Pillow를 설치해주면 됩니다."
   ]
  },
  {
   "cell_type": "markdown",
   "metadata": {},
   "source": [
    "<img src=\"image/batch.png\" width=\"500\">"
   ]
  },
  {
   "cell_type": "markdown",
   "metadata": {},
   "source": [
    "- generator를 사용하여 train data를 무한히 뽑을 수 있으므로 epoch수를 늘릴 수록 많은 데이터를 통해 학습됩니다."
   ]
  },
  {
   "cell_type": "code",
   "execution_count": 15,
   "metadata": {
    "ExecuteTime": {
     "end_time": "2020-07-30T07:36:13.695467Z",
     "start_time": "2020-07-30T07:32:35.319719Z"
    }
   },
   "outputs": [
    {
     "name": "stdout",
     "output_type": "stream",
     "text": [
      "WARNING:tensorflow:From <ipython-input-15-243fe37a8780>:11: Model.fit_generator (from tensorflow.python.keras.engine.training) is deprecated and will be removed in a future version.\n",
      "Instructions for updating:\n",
      "Please use Model.fit, which supports generators.\n",
      "Epoch 1/10\n",
      "62/62 [==============================] - 11s 176ms/step - loss: 0.7056 - accuracy: 0.4990 - val_loss: 0.6979 - val_accuracy: 0.4829\n",
      "Epoch 2/10\n",
      "62/62 [==============================] - 10s 165ms/step - loss: 0.6927 - accuracy: 0.4985 - val_loss: 0.6873 - val_accuracy: 0.5300\n",
      "Epoch 3/10\n",
      "62/62 [==============================] - 10s 157ms/step - loss: 0.6855 - accuracy: 0.5549 - val_loss: 0.6822 - val_accuracy: 0.5682\n",
      "Epoch 4/10\n",
      "62/62 [==============================] - 10s 154ms/step - loss: 0.6789 - accuracy: 0.5843 - val_loss: 0.6746 - val_accuracy: 0.6043\n",
      "Epoch 5/10\n",
      "62/62 [==============================] - 9s 153ms/step - loss: 0.6727 - accuracy: 0.6636 - val_loss: 0.6677 - val_accuracy: 0.6643\n",
      "Epoch 6/10\n",
      "62/62 [==============================] - 9s 152ms/step - loss: 0.6668 - accuracy: 0.6784 - val_loss: 0.6619 - val_accuracy: 0.6818\n",
      "Epoch 7/10\n",
      "62/62 [==============================] - 10s 156ms/step - loss: 0.6621 - accuracy: 0.7119 - val_loss: 0.6541 - val_accuracy: 0.7459\n",
      "Epoch 8/10\n",
      "62/62 [==============================] - 9s 152ms/step - loss: 0.6548 - accuracy: 0.7307 - val_loss: 0.6470 - val_accuracy: 0.7758\n",
      "Epoch 9/10\n",
      "62/62 [==============================] - 10s 157ms/step - loss: 0.6497 - accuracy: 0.7368 - val_loss: 0.6432 - val_accuracy: 0.7593\n",
      "Epoch 10/10\n",
      "62/62 [==============================] - 9s 153ms/step - loss: 0.6447 - accuracy: 0.7637 - val_loss: 0.6345 - val_accuracy: 0.7903\n"
     ]
    }
   ],
   "source": [
    "epochs = 10\n",
    "steps_per_epoch = train_generator.n // batch_size\n",
    "                   #2000             //   #32       =  62\n",
    "validation_steps = validation_generator.n // batch_size\n",
    "                    #1000                     #32      =  31\n",
    "history = model.fit_generator(train_generator, \n",
    "                              steps_per_epoch = steps_per_epoch,\n",
    "                              epochs=epochs, \n",
    "                              workers=4,\n",
    "                              validation_data=validation_generator, \n",
    "                              validation_steps=validation_steps)"
   ]
  },
  {
   "cell_type": "markdown",
   "metadata": {},
   "source": [
    "## Learning curves"
   ]
  },
  {
   "cell_type": "code",
   "execution_count": 16,
   "metadata": {
    "ExecuteTime": {
     "end_time": "2020-07-30T07:36:14.027505Z",
     "start_time": "2020-07-30T07:36:13.727984Z"
    }
   },
   "outputs": [
    {
     "data": {
      "image/png": "[encoded data removed]",
      "text/plain": [
       "<Figure size 576x576 with 2 Axes>"
      ]
     },
     "metadata": {
      "needs_background": "light"
     },
     "output_type": "display_data"
    }
   ],
   "source": [
    "acc = history.history['accuracy']\n",
    "val_acc = history.history['val_accuracy']\n",
    "\n",
    "loss = history.history['loss']\n",
    "val_loss = history.history['val_loss']\n",
    "\n",
    "plt.figure(figsize=(8, 8))\n",
    "\n",
    "plt.subplot(2, 1, 1)\n",
    "plt.plot(acc, label='Training Accuracy')\n",
    "plt.plot(val_acc, label='Validation Accuracy')\n",
    "plt.legend(loc='lower right')\n",
    "plt.ylabel('Accuracy')\n",
    "plt.ylim([min(plt.ylim()),1])\n",
    "plt.title('Training and Validation Accuracy')\n",
    "\n",
    "plt.subplot(2, 1, 2)\n",
    "plt.plot(loss, label='Training Loss')\n",
    "plt.plot(val_loss, label='Validation Loss')\n",
    "plt.legend(loc='upper right')\n",
    "plt.ylabel('Cross Entropy')\n",
    "plt.ylim([0,max(plt.ylim())])\n",
    "plt.title('Training and Validation Loss')\n",
    "plt.show()"
   ]
  },
  {
   "cell_type": "markdown",
   "metadata": {},
   "source": [
    "## Fine tuning"
   ]
  },
  {
   "cell_type": "markdown",
   "metadata": {},
   "source": [
    "<img src=\"image/VGG3.png\" width=\"500\">"
   ]
  },
  {
   "cell_type": "code",
   "execution_count": 17,
   "metadata": {
    "ExecuteTime": {
     "end_time": "2020-07-30T07:36:14.075498Z",
     "start_time": "2020-07-30T07:36:14.063498Z"
    }
   },
   "outputs": [],
   "source": [
    "base_model.trainable = True"
   ]
  },
  {
   "cell_type": "code",
   "execution_count": 18,
   "metadata": {
    "ExecuteTime": {
     "end_time": "2020-07-30T07:36:14.121497Z",
     "start_time": "2020-07-30T07:36:14.107499Z"
    }
   },
   "outputs": [
    {
     "name": "stdout",
     "output_type": "stream",
     "text": [
      "Number of layers in the base model:  19\n"
     ]
    }
   ],
   "source": [
    "# base model의 layer 갯수를 확인\n",
    "print(\"Number of layers in the base model: \", len(base_model.layers))"
   ]
  },
  {
   "cell_type": "code",
   "execution_count": 19,
   "metadata": {
    "ExecuteTime": {
     "end_time": "2020-07-30T07:36:14.169497Z",
     "start_time": "2020-07-30T07:36:14.155497Z"
    }
   },
   "outputs": [],
   "source": [
    "# Fine tuning을 시킬 기준 layer 선정\n",
    "fine_tune_at = 15\n",
    "\n",
    "# Fine tuning을 시킬 기준 layer 이전의 layer들을 모두 freezing\n",
    "for layer in base_model.layers[:fine_tune_at]:\n",
    "    layer.trainable =  False"
   ]
  },
  {
   "cell_type": "markdown",
   "metadata": {},
   "source": [
    "<img src=\"image/VGG2.png\" width=\"500\">"
   ]
  },
  {
   "cell_type": "code",
   "execution_count": 20,
   "metadata": {
    "ExecuteTime": {
     "end_time": "2020-07-30T07:36:14.215500Z",
     "start_time": "2020-07-30T07:36:14.201500Z"
    }
   },
   "outputs": [
    {
     "data": {
      "text/plain": [
       "6"
      ]
     },
     "execution_count": 20,
     "metadata": {},
     "output_type": "execute_result"
    }
   ],
   "source": [
    "len(base_model.trainable_variables)"
   ]
  },
  {
   "cell_type": "markdown",
   "metadata": {},
   "source": [
    "## Compile the model"
   ]
  },
  {
   "cell_type": "code",
   "execution_count": 21,
   "metadata": {
    "ExecuteTime": {
     "end_time": "2020-07-30T07:36:14.263498Z",
     "start_time": "2020-07-30T07:36:14.251502Z"
    }
   },
   "outputs": [],
   "source": [
    "#lr=0.0001\n",
    "#lr=0.00002"
   ]
  },
  {
   "cell_type": "code",
   "execution_count": 22,
   "metadata": {
    "ExecuteTime": {
     "end_time": "2020-07-30T07:36:14.343499Z",
     "start_time": "2020-07-30T07:36:14.266499Z"
    }
   },
   "outputs": [],
   "source": [
    "model.compile(loss='binary_crossentropy',\n",
    "              optimizer = tf.keras.optimizers.RMSprop(lr=2e-5),\n",
    "              metrics=['accuracy'])"
   ]
  },
  {
   "cell_type": "code",
   "execution_count": 23,
   "metadata": {
    "ExecuteTime": {
     "end_time": "2020-07-30T07:36:14.358497Z",
     "start_time": "2020-07-30T07:36:14.345499Z"
    }
   },
   "outputs": [
    {
     "name": "stdout",
     "output_type": "stream",
     "text": [
      "Model: \"sequential\"\n",
      "_________________________________________________________________\n",
      "Layer (type)                 Output Shape              Param #   \n",
      "=================================================================\n",
      "vgg16 (Model)                (None, 7, 7, 512)         14714688  \n",
      "_________________________________________________________________\n",
      "global_average_pooling2d (Gl (None, 512)               0         \n",
      "_________________________________________________________________\n",
      "dense (Dense)                (None, 1)                 513       \n",
      "=================================================================\n",
      "Total params: 14,715,201\n",
      "Trainable params: 7,079,937\n",
      "Non-trainable params: 7,635,264\n",
      "_________________________________________________________________\n"
     ]
    }
   ],
   "source": [
    "model.summary()"
   ]
  },
  {
   "cell_type": "markdown",
   "metadata": {},
   "source": [
    "## Continue Train the model"
   ]
  },
  {
   "cell_type": "code",
   "execution_count": 24,
   "metadata": {
    "ExecuteTime": {
     "end_time": "2020-07-30T07:40:02.951966Z",
     "start_time": "2020-07-30T07:36:14.453499Z"
    }
   },
   "outputs": [
    {
     "name": "stdout",
     "output_type": "stream",
     "text": [
      "Epoch 1/10\n",
      "62/62 [==============================] - 11s 174ms/step - loss: 0.4660 - accuracy: 0.8095 - val_loss: 0.3480 - val_accuracy: 0.8502\n",
      "Epoch 2/10\n",
      "62/62 [==============================] - 10s 160ms/step - loss: 0.3004 - accuracy: 0.8866 - val_loss: 0.2290 - val_accuracy: 0.9174\n",
      "Epoch 3/10\n",
      "62/62 [==============================] - 10s 157ms/step - loss: 0.2424 - accuracy: 0.9075 - val_loss: 0.2018 - val_accuracy: 0.9236\n",
      "Epoch 4/10\n",
      "62/62 [==============================] - 10s 155ms/step - loss: 0.2046 - accuracy: 0.9192 - val_loss: 0.1593 - val_accuracy: 0.9442\n",
      "Epoch 5/10\n",
      "62/62 [==============================] - 10s 158ms/step - loss: 0.1767 - accuracy: 0.9314 - val_loss: 0.1957 - val_accuracy: 0.9215\n",
      "Epoch 6/10\n",
      "62/62 [==============================] - 10s 158ms/step - loss: 0.1686 - accuracy: 0.9385 - val_loss: 0.1379 - val_accuracy: 0.9452\n",
      "Epoch 7/10\n",
      "62/62 [==============================] - 10s 159ms/step - loss: 0.1456 - accuracy: 0.9497 - val_loss: 0.1407 - val_accuracy: 0.9506\n",
      "Epoch 8/10\n",
      "62/62 [==============================] - 10s 154ms/step - loss: 0.1324 - accuracy: 0.9482 - val_loss: 0.2370 - val_accuracy: 0.8915\n",
      "Epoch 9/10\n",
      "62/62 [==============================] - 10s 157ms/step - loss: 0.1119 - accuracy: 0.9609 - val_loss: 0.1561 - val_accuracy: 0.9401\n",
      "Epoch 10/10\n",
      "62/62 [==============================] - 10s 154ms/step - loss: 0.1198 - accuracy: 0.9548 - val_loss: 0.1165 - val_accuracy: 0.9597\n"
     ]
    }
   ],
   "source": [
    "history_fine = model.fit_generator(train_generator, \n",
    "                                   steps_per_epoch = steps_per_epoch,\n",
    "                                   epochs=epochs, \n",
    "                                   workers=4,\n",
    "                                   validation_data=validation_generator, \n",
    "                                   validation_steps=validation_steps)"
   ]
  },
  {
   "cell_type": "markdown",
   "metadata": {},
   "source": [
    "## Learning curves "
   ]
  },
  {
   "cell_type": "code",
   "execution_count": 25,
   "metadata": {
    "ExecuteTime": {
     "end_time": "2020-07-30T07:40:03.268956Z",
     "start_time": "2020-07-30T07:40:02.984968Z"
    }
   },
   "outputs": [
    {
     "data": {
      "image/png": "[encoded data removed]",
      "text/plain": [
       "<Figure size 576x576 with 2 Axes>"
      ]
     },
     "metadata": {
      "needs_background": "light"
     },
     "output_type": "display_data"
    }
   ],
   "source": [
    "acc += history_fine.history['accuracy']\n",
    "val_acc += history_fine.history['val_accuracy']\n",
    "\n",
    "loss += history_fine.history['loss']\n",
    "val_loss += history_fine.history['val_loss']\n",
    "\n",
    "\n",
    "\n",
    "plt.figure(figsize=(8, 8))\n",
    "plt.subplot(2, 1, 1)\n",
    "plt.plot(acc, label='Training Accuracy')\n",
    "plt.plot(val_acc, label='Validation Accuracy')\n",
    "plt.legend(loc='lower right')\n",
    "plt.ylabel('Accuracy')\n",
    "plt.ylim([min(plt.ylim()),1])\n",
    "plt.plot([epochs,epochs], plt.ylim(), label='Start Fine Tuning')\n",
    "plt.title('Training and Validation Accuracy')\n",
    "\n",
    "plt.subplot(2, 1, 2)\n",
    "plt.plot(loss, label='Training Loss')\n",
    "plt.plot(val_loss, label='Validation Loss')\n",
    "plt.legend(loc='upper right')\n",
    "plt.ylabel('Cross Entropy')\n",
    "plt.ylim([0,max(plt.ylim())])\n",
    "plt.plot([epochs,epochs], plt.ylim(), label='Start Fine Tuning')\n",
    "plt.title('Training and Validation Loss')\n",
    "plt.show()"
   ]
  },
  {
   "cell_type": "markdown",
   "metadata": {},
   "source": [
    "# 본인만의 Transfer learning 모델을 만들어보세요"
   ]
  },
  {
   "cell_type": "markdown",
   "metadata": {},
   "source": [
    "<span style=\"color:red\">본인만의 창의적인 생각으로 수정한 내용을 적어주세요</span>"
   ]
  },
  {
   "cell_type": "code",
   "execution_count": 26,
   "metadata": {
    "ExecuteTime": {
     "end_time": "2020-07-30T07:40:03.600950Z",
     "start_time": "2020-07-30T07:40:03.300958Z"
    }
   },
   "outputs": [],
   "source": [
    "my_base_model = tf.keras.applications.VGG16(input_shape=IMG_SHAPE,\n",
    "                                               include_top=False, \n",
    "                                               weights='imagenet')"
   ]
  },
  {
   "cell_type": "code",
   "execution_count": 27,
   "metadata": {
    "ExecuteTime": {
     "end_time": "2020-07-30T07:40:03.646950Z",
     "start_time": "2020-07-30T07:40:03.632951Z"
    }
   },
   "outputs": [],
   "source": [
    "my_base_model.trainable = True"
   ]
  },
  {
   "cell_type": "code",
   "execution_count": 28,
   "metadata": {
    "ExecuteTime": {
     "end_time": "2020-07-30T07:40:03.694950Z",
     "start_time": "2020-07-30T07:40:03.680951Z"
    }
   },
   "outputs": [
    {
     "name": "stdout",
     "output_type": "stream",
     "text": [
      "Number of layers in the base model:  19\n"
     ]
    }
   ],
   "source": [
    "# base model의 layer 갯수를 확인\n",
    "print(\"Number of layers in the base model: \", len(my_base_model.layers))"
   ]
  },
  {
   "cell_type": "markdown",
   "metadata": {},
   "source": [
    "- 레이어(fine_tune_at)를 설정해보세요 값 1~19"
   ]
  },
  {
   "cell_type": "markdown",
   "metadata": {},
   "source": [
    "<img src=\"image/VGG3.png\" width=\"500\">"
   ]
  },
  {
   "cell_type": "code",
   "execution_count": 29,
   "metadata": {
    "ExecuteTime": {
     "end_time": "2020-07-30T07:40:03.740950Z",
     "start_time": "2020-07-30T07:40:03.726951Z"
    }
   },
   "outputs": [],
   "source": [
    "# Fine tuning을 시킬 기준 layer 선정\n",
    "fine_tune_at = 6\n",
    "\n",
    "# Fine tuning을 시킬 기준 layer 이전의 layer들을 모두 freezing\n",
    "for layer in my_base_model.layers[:fine_tune_at]:\n",
    "    layer.trainable =  False"
   ]
  },
  {
   "cell_type": "code",
   "execution_count": 30,
   "metadata": {
    "ExecuteTime": {
     "end_time": "2020-07-30T07:40:03.786950Z",
     "start_time": "2020-07-30T07:40:03.773951Z"
    }
   },
   "outputs": [
    {
     "data": {
      "text/plain": [
       "18"
      ]
     },
     "execution_count": 30,
     "metadata": {},
     "output_type": "execute_result"
    }
   ],
   "source": [
    "#학습 변수 개수 확인\n",
    "len(my_base_model.trainable_variables)"
   ]
  },
  {
   "cell_type": "code",
   "execution_count": 31,
   "metadata": {
    "ExecuteTime": {
     "end_time": "2020-07-30T07:40:03.911950Z",
     "start_time": "2020-07-30T07:40:03.820952Z"
    }
   },
   "outputs": [],
   "source": [
    "my_model = tf.keras.Sequential([\n",
    "  my_base_model,\n",
    "  keras.layers.GlobalAveragePooling2D(),\n",
    "  keras.layers.Dense(1, activation='sigmoid')\n",
    "])"
   ]
  },
  {
   "cell_type": "markdown",
   "metadata": {},
   "source": [
    "- 학습률(lr)을 설정해 보세요 값 0.001 보다 작게"
   ]
  },
  {
   "cell_type": "code",
   "execution_count": 32,
   "metadata": {
    "ExecuteTime": {
     "end_time": "2020-07-30T07:40:03.990950Z",
     "start_time": "2020-07-30T07:40:03.944952Z"
    }
   },
   "outputs": [],
   "source": [
    "my_model.compile(loss='binary_crossentropy',\n",
    "              optimizer = tf.keras.optimizers.Adam(lr=4e-5),\n",
    "              metrics=['accuracy'])"
   ]
  },
  {
   "cell_type": "code",
   "execution_count": 33,
   "metadata": {
    "ExecuteTime": {
     "end_time": "2020-07-30T07:40:04.036952Z",
     "start_time": "2020-07-30T07:40:04.022954Z"
    }
   },
   "outputs": [
    {
     "name": "stdout",
     "output_type": "stream",
     "text": [
      "Model: \"sequential_1\"\n",
      "_________________________________________________________________\n",
      "Layer (type)                 Output Shape              Param #   \n",
      "=================================================================\n",
      "vgg16 (Model)                (None, 7, 7, 512)         14714688  \n",
      "_________________________________________________________________\n",
      "global_average_pooling2d_1 ( (None, 512)               0         \n",
      "_________________________________________________________________\n",
      "dense_1 (Dense)              (None, 1)                 513       \n",
      "=================================================================\n",
      "Total params: 14,715,201\n",
      "Trainable params: 14,455,041\n",
      "Non-trainable params: 260,160\n",
      "_________________________________________________________________\n"
     ]
    }
   ],
   "source": [
    "my_model.summary()"
   ]
  },
  {
   "cell_type": "markdown",
   "metadata": {},
   "source": [
    "- epoch를 설정해보세요 값 num=1~15"
   ]
  },
  {
   "cell_type": "code",
   "execution_count": 34,
   "metadata": {
    "ExecuteTime": {
     "end_time": "2020-07-30T07:47:47.893424Z",
     "start_time": "2020-07-30T07:40:04.069957Z"
    },
    "scrolled": true
   },
   "outputs": [
    {
     "name": "stdout",
     "output_type": "stream",
     "text": [
      "Epoch 1/14\n",
      "62/62 [==============================] - 14s 219ms/step - loss: 0.3081 - accuracy: 0.8526 - val_loss: 0.1519 - val_accuracy: 0.9504\n",
      "Epoch 2/14\n",
      "62/62 [==============================] - 13s 210ms/step - loss: 0.1543 - accuracy: 0.9441 - val_loss: 0.1495 - val_accuracy: 0.9390\n",
      "Epoch 3/14\n",
      "62/62 [==============================] - 13s 211ms/step - loss: 0.0845 - accuracy: 0.9698 - val_loss: 0.0823 - val_accuracy: 0.9690\n",
      "Epoch 4/14\n",
      "62/62 [==============================] - 13s 211ms/step - loss: 0.0855 - accuracy: 0.9665 - val_loss: 0.0860 - val_accuracy: 0.9690\n",
      "Epoch 5/14\n",
      "62/62 [==============================] - 13s 209ms/step - loss: 0.0752 - accuracy: 0.9715 - val_loss: 0.1661 - val_accuracy: 0.9432\n",
      "Epoch 6/14\n",
      "62/62 [==============================] - 13s 207ms/step - loss: 0.0551 - accuracy: 0.9817 - val_loss: 0.0559 - val_accuracy: 0.9762\n",
      "Epoch 7/14\n",
      "62/62 [==============================] - 13s 210ms/step - loss: 0.0218 - accuracy: 0.9949 - val_loss: 0.0778 - val_accuracy: 0.9762\n",
      "Epoch 8/14\n",
      "62/62 [==============================] - 13s 209ms/step - loss: 0.0255 - accuracy: 0.9909 - val_loss: 0.1071 - val_accuracy: 0.9566\n",
      "Epoch 9/14\n",
      "62/62 [==============================] - 13s 208ms/step - loss: 0.0587 - accuracy: 0.9812 - val_loss: 0.0985 - val_accuracy: 0.9690\n",
      "Epoch 10/14\n",
      "62/62 [==============================] - 13s 208ms/step - loss: 0.0210 - accuracy: 0.9934 - val_loss: 0.0875 - val_accuracy: 0.9690\n",
      "Epoch 11/14\n",
      "62/62 [==============================] - 13s 210ms/step - loss: 0.0209 - accuracy: 0.9919 - val_loss: 0.1388 - val_accuracy: 0.9556\n",
      "Epoch 12/14\n",
      "62/62 [==============================] - 13s 211ms/step - loss: 0.0114 - accuracy: 0.9975 - val_loss: 0.0968 - val_accuracy: 0.9711\n",
      "Epoch 13/14\n",
      "62/62 [==============================] - 13s 212ms/step - loss: 0.0220 - accuracy: 0.9944 - val_loss: 0.0920 - val_accuracy: 0.9698\n",
      "Epoch 14/14\n",
      "62/62 [==============================] - 13s 208ms/step - loss: 0.0256 - accuracy: 0.9924 - val_loss: 0.0918 - val_accuracy: 0.9783\n"
     ]
    }
   ],
   "source": [
    "##설정##\n",
    "epochs = 14\n",
    "########\n",
    "steps_per_epoch = train_generator.n // batch_size\n",
    "                   #2000             //   #32       =  62\n",
    "validation_steps = validation_generator.n // batch_size\n",
    "                    #1000                     #32      = 31\n",
    "my_history = my_model.fit_generator(train_generator, \n",
    "                              steps_per_epoch = steps_per_epoch,\n",
    "                              epochs=epochs, \n",
    "                              workers=4,\n",
    "                              validation_data=validation_generator, \n",
    "                              validation_steps=validation_steps)"
   ]
  },
  {
   "cell_type": "code",
   "execution_count": 35,
   "metadata": {
    "ExecuteTime": {
     "end_time": "2020-07-30T07:55:45.852422Z",
     "start_time": "2020-07-30T07:55:45.607421Z"
    }
   },
   "outputs": [
    {
     "data": {
      "image/png": "[encoded data removed]",
      "text/plain": [
       "<Figure size 576x576 with 2 Axes>"
      ]
     },
     "metadata": {
      "needs_background": "light"
     },
     "output_type": "display_data"
    }
   ],
   "source": [
    "my_acc = my_history.history['accuracy']\n",
    "my_val_acc = my_history.history['val_accuracy']\n",
    "\n",
    "my_loss = my_history.history['loss']\n",
    "my_val_loss = my_history.history['val_loss']\n",
    "\n",
    "\n",
    "\n",
    "plt.figure(figsize=(8, 8))\n",
    "plt.subplot(2, 1, 1)\n",
    "plt.plot(my_acc, label='Training Accuracy')\n",
    "plt.plot(my_val_acc, label='Validation Accuracy')\n",
    "plt.legend(loc='lower right')\n",
    "plt.ylabel('Accuracy')\n",
    "plt.ylim([min(plt.ylim()),1])\n",
    "plt.title('Training and Validation Accuracy')\n",
    "\n",
    "plt.subplot(2, 1, 2)\n",
    "plt.plot(my_loss, label='Training Loss')\n",
    "plt.plot(my_val_loss, label='Validation Loss')\n",
    "plt.legend(loc='upper right')\n",
    "plt.ylabel('Cross Entropy')\n",
    "plt.ylim([0,max(plt.ylim())])\n",
    "plt.title('Training and Validation Loss')\n",
    "plt.show()"
   ]
  },
  {
   "cell_type": "code",
   "execution_count": null,
   "metadata": {},
   "outputs": [],
   "source": []
  },
  {
   "cell_type": "code",
   "execution_count": null,
   "metadata": {},
   "outputs": [],
   "source": []
  },
  {
   "cell_type": "code",
   "execution_count": null,
   "metadata": {},
   "outputs": [],
   "source": []
  },
  {
   "cell_type": "code",
   "execution_count": null,
   "metadata": {},
   "outputs": [],
   "source": []
  }
 ],
 "metadata": {
  "hide_input": false,
  "kernelspec": {
   "display_name": "Python 3",
   "language": "python",
   "name": "python3"
  },
  "language_info": {
   "codemirror_mode": {
    "name": "ipython",
    "version": 3
   },
   "file_extension": ".py",
   "mimetype": "text/x-python",
   "name": "python",
   "nbconvert_exporter": "python",
   "pygments_lexer": "ipython3",
   "version": "3.7.6"
  },
  "toc": {
   "base_numbering": 1,
   "nav_menu": {},
   "number_sections": true,
   "sideBar": true,
   "skip_h1_title": false,
   "title_cell": "Table of Contents",
   "title_sidebar": "Contents",
   "toc_cell": false,
   "toc_position": {
    "height": "calc(100% - 180px)",
    "left": "10px",
    "top": "150px",
    "width": "181.179px"
   },
   "toc_section_display": true,
   "toc_window_display": true
  },
  "varInspector": {
   "cols": {
    "lenName": 16,
    "lenType": 16,
    "lenVar": 40
   },
   "kernels_config": {
    "python": {
     "delete_cmd_postfix": "",
     "delete_cmd_prefix": "del ",
     "library": "var_list.py",
     "varRefreshCmd": "print(var_dic_list())"
    },
    "r": {
     "delete_cmd_postfix": ") ",
     "delete_cmd_prefix": "rm(",
     "library": "var_list.r",
     "varRefreshCmd": "cat(var_dic_list()) "
    }
   },
   "types_to_exclude": [
    "module",
    "function",
    "builtin_function_or_method",
    "instance",
    "_Feature"
   ],
   "window_display": false
  }
 },
 "nbformat": 4,
 "nbformat_minor": 4
}
